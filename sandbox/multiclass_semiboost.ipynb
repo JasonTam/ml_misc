{
 "cells": [
  {
   "cell_type": "markdown",
   "metadata": {},
   "source": [
    "Mallapragada, Pavan Kumar, et al. \"Semiboost: Boosting for semi-supervised learning.\" Pattern Analysis and Machine Intelligence, IEEE Transactions on 31.11 (2009): 2000-2014.\n",
    "\n",
    "http://www.cse.msu.edu/prip/ResearchProjects/cluster_research/papers/MSU-CSE-07-197.pdf\n",
    "\n",
    "http://citeseerx.ist.psu.edu/viewdoc/download?doi=10.1.1.380.9291&rep=rep1&type=pdf"
   ]
  },
  {
   "cell_type": "code",
   "execution_count": 106,
   "metadata": {
    "collapsed": true
   },
   "outputs": [],
   "source": [
    "import numpy as np\n",
    "\n",
    "from sklearn.metrics import pairwise_distances\n",
    "\n",
    "from sklearn.tree import DecisionTreeClassifier\n",
    "from sklearn.linear_model import LogisticRegression\n",
    "from sklearn.datasets import load_iris, make_classification, make_gaussian_quantiles\n",
    "from sklearn.preprocessing import label_binarize\n",
    "\n",
    "from sklearn.metrics import log_loss\n",
    "from sklearn.cross_validation import StratifiedShuffleSplit\n",
    "from sklearn.base import BaseEstimator, ClassifierMixin, clone\n",
    "\n",
    "from sklearn.utils.extmath import cartesian\n",
    "\n",
    "from scipy.stats import rv_discrete\n",
    "\n",
    "import matplotlib.pyplot as plt\n",
    "import seaborn as sns\n",
    "%matplotlib inline"
   ]
  },
  {
   "cell_type": "code",
   "execution_count": 2,
   "metadata": {
    "collapsed": false
   },
   "outputs": [],
   "source": [
    "class WeightedAvgClf(BaseEstimator, ClassifierMixin):\n",
    "    def __init__(self, ests=None, alpha=None):\n",
    "        if ests is None:\n",
    "            self.ests = []\n",
    "        else:\n",
    "            self.ests = ests\n",
    "        if alpha is None:\n",
    "            self.alpha = []\n",
    "        else:\n",
    "            self.alpha = alpha\n",
    "        \n",
    "    def add_est(self, est, alpha):\n",
    "        self.ests.append(est)\n",
    "        self.alpha.append(alpha)\n",
    "\n",
    "    def fit(self, X, y, **fit_params):\n",
    "        print 'The estimators should be pre-fit'\n",
    "        return self\n",
    "\n",
    "    def predict_proba(self, X, **pred_params):\n",
    "        preds = np.array([est.predict_proba(X) for est in self.ests])\n",
    "        preds_w = (np.array(self.alpha)[:, None, None] * preds).sum(axis=0)\n",
    "        return preds_w / preds_w.sum(axis=1)[:, None]\n",
    "        \n",
    "        \n"
   ]
  },
  {
   "cell_type": "code",
   "execution_count": 3,
   "metadata": {
    "collapsed": false
   },
   "outputs": [],
   "source": [
    "X, y = make_gaussian_quantiles(n_features=2, n_classes=3,\n",
    "                              n_samples=500)\n",
    "classes = np.unique(y)\n",
    "K = float(len(classes))"
   ]
  },
  {
   "cell_type": "code",
   "execution_count": 4,
   "metadata": {
    "collapsed": false
   },
   "outputs": [],
   "source": [
    "train_split, val_split = iter(StratifiedShuffleSplit(\n",
    "    y, n_iter=1, test_size=0.9)).next()\n",
    "X_train, X_val = X[train_split], X[val_split]\n",
    "y_train, y_val = y[train_split], y[val_split]"
   ]
  },
  {
   "cell_type": "code",
   "execution_count": 5,
   "metadata": {
    "collapsed": false
   },
   "outputs": [
    {
     "name": "stdout",
     "output_type": "stream",
     "text": [
      "(500, 2)\n",
      "(500, 500)\n"
     ]
    }
   ],
   "source": [
    "S = pairwise_distances(X, metric='cosine', n_jobs=-1)\n",
    "\n",
    "cart_lu = cartesian([train_split, val_split])\n",
    "cart_uu = cartesian([val_split, val_split])\n",
    "S_lu = S[cart_lu[:,0], cart_lu[:,1]].reshape([len(train_split), len(val_split)])\n",
    "S_uu = S[cart_uu[:,0], cart_uu[:,1]].reshape([len(val_split), len(val_split)])\n",
    "\n",
    "print X.shape\n",
    "print S.shape"
   ]
  },
  {
   "cell_type": "code",
   "execution_count": 8,
   "metadata": {
    "collapsed": true
   },
   "outputs": [],
   "source": [
    "# Y_i = label_binarize(y_train, classes=classes, \n",
    "#                      neg_label=-1, pos_label=K-1)/float(K-1)"
   ]
  },
  {
   "cell_type": "code",
   "execution_count": 154,
   "metadata": {
    "collapsed": false
   },
   "outputs": [
    {
     "name": "stdout",
     "output_type": "stream",
     "text": [
      "7.7693015944\n",
      "alpha: 1.53678185117\n",
      "7.26145496811\n",
      "alpha: 1.5322100596\n",
      "5.62970973935\n",
      "alpha: 1.52776520189\n",
      "5.57379984129\n",
      "alpha: 1.52765663345\n",
      "5.42620342359\n",
      "alpha: 1.51915915375\n",
      "5.43275841935\n",
      "alpha: 1.52670539329\n",
      "5.43880922131\n",
      "alpha: 1.51982931366\n",
      "5.44341120051\n",
      "alpha: 1.5243199236\n",
      "5.37878771277\n",
      "alpha: 1.51657890015\n",
      "5.31483260684\n",
      "alpha: 1.52340412664\n",
      "5.24457886011\n",
      "alpha: 1.52296889809\n",
      "4.67472648185\n",
      "alpha: 1.5213259274\n",
      "4.67769862869\n",
      "alpha: 1.51440472746\n",
      "4.68199644112\n",
      "alpha: 1.51946849766\n",
      "4.68129911377\n",
      "alpha: 1.51539767623\n",
      "4.68395039338\n",
      "alpha: 1.51904053196\n",
      "4.68943890919\n",
      "alpha: 1.51670743211\n",
      "4.6946262053\n",
      "alpha: 1.52253929049\n",
      "4.69730777194\n",
      "alpha: 1.51915824905\n",
      "4.70008057908\n",
      "alpha: 1.51696997278\n"
     ]
    }
   ],
   "source": [
    "bc = lambda p, q: np.sqrt(p * q).sum()\n",
    "D = lambda p, q: -np.log(bc(p, q) + 1e-30)\n",
    "\n",
    "clf = DecisionTreeClassifier()\n",
    "# Fit the initial classifier and add to ensemble\n",
    "H = WeightedAvgClf(\n",
    "    ests=[clone(clf).fit(X_train, y_train)],\n",
    "    alpha=[1.],\n",
    ")\n",
    "for t in range(20):\n",
    "    H_pred = H.predict_proba(X_val)\n",
    "    \n",
    "    score = log_loss(y_val, H_pred)\n",
    "    print score\n",
    "    \n",
    "#     --------------------------------------------------------------\n",
    "    C = 1.0    # weight of UU consistency\n",
    "\n",
    "    loss_lu = np.zeros([len(train_split), len(val_split)])\n",
    "    for i in range(len(train_split)):\n",
    "        loss_lu[i, :] = -np.log(H_pred[:, y_train[i]] + 1e-30)\n",
    "    loss_obs_lu = loss_lu.sum(axis=0)\n",
    "\n",
    "    loss_uu = pairwise_distances(H_pred, metric=D)\n",
    "    loss_obs_uu = loss_uu.sum(axis=0)\n",
    "\n",
    "    loss_obs = loss_obs_lu + C*loss_obs_uu\n",
    "   \n",
    "#     --------------------------------------------------------------\n",
    "\n",
    "    # Create sampling prob distribution from loss_obs (our confidence)\n",
    "    loss_obs_normed = loss_obs / loss_obs.sum()\n",
    "    u_sampling_pmf = rv_discrete(values=(range(len(loss_obs_normed)), loss_obs_normed))\n",
    "    \n",
    "    # Sample the pseudo-labels based on confidence\n",
    "    n_xfer = int(len(loss_obs_normed)/10.)  # Sample 10% empircally deteremined by Mallapragada\n",
    "    xfer_inds = u_sampling_pmf.rvs(size=n_xfer)\n",
    "    y_xfer = np.argmax(H_pred[xfer_inds, :], axis=1)\n",
    "    X_xfer = X_val[xfer_inds, :]\n",
    "    loss_xfer = np.log(loss_obs[xfer_inds].sum())/(K**2)\n",
    "\n",
    "    # Fit the component classifier\n",
    "    clf_comp = clone(clf).fit(\n",
    "        X=np.r_[X_train, X_xfer],\n",
    "        y=np.r_[y_train, y_xfer],\n",
    "    )\n",
    "    \n",
    "#     --------------------------------------------------------------\n",
    "    alpha = loss_xfer\n",
    "    print 'alpha:', alpha\n",
    "#     --------------------------------------------------------------\n",
    "    \n",
    "    H.add_est(clf_comp, alpha)"
   ]
  },
  {
   "cell_type": "code",
   "execution_count": 149,
   "metadata": {
    "collapsed": false
   },
   "outputs": [
    {
     "data": {
      "text/plain": [
       "[1.0,\n",
       " 1.0148851746165706,\n",
       " 1.0141631604172081,\n",
       " 1.0132210888257738,\n",
       " 1.0141819076167746,\n",
       " 1.0095793093807499,\n",
       " 1.0066463928034333,\n",
       " 1.0046899682593589,\n",
       " 1.0067869713103776,\n",
       " 1.0012022605757387,\n",
       " 1.0078753594221572,\n",
       " 1.0078028724183798,\n",
       " 1.005134670740681,\n",
       " 1.0050636024820701,\n",
       " 1.0073769485919306,\n",
       " 1.0058669589929703,\n",
       " 1.0052745534681764,\n",
       " 1.0089654828866683,\n",
       " 1.0082454429816858,\n",
       " 1.0088863766212093,\n",
       " 1.0072986277549139,\n",
       " 1.0076846997466002,\n",
       " 1.0075733408941441,\n",
       " 1.0083547264838577,\n",
       " 1.0055562704514527,\n",
       " 1.0055650478203857,\n",
       " 0.9998960446022459,\n",
       " 1.007911120291016,\n",
       " 1.0010177049147371,\n",
       " 1.0023352462807822,\n",
       " 1.0069529491186178,\n",
       " 1.0046038715422121,\n",
       " 1.0040872556036133,\n",
       " 1.0020728574334063,\n",
       " 1.0009163574258297,\n",
       " 1.0042754058424259,\n",
       " 1.0024476367930597,\n",
       " 1.0045568007151582,\n",
       " 1.0007886899493681,\n",
       " 1.0031851007160231,\n",
       " 0.99931896142725085,\n",
       " 0.99576969526787218,\n",
       " 0.99506899824467598,\n",
       " 0.99479235362700125,\n",
       " 1.0020642150574173,\n",
       " 0.99596863320126838,\n",
       " 0.99528065408471278,\n",
       " 0.9983422918412802,\n",
       " 0.99373113305592475,\n",
       " 1.0049150178452548,\n",
       " 0.99726932623474562]"
      ]
     },
     "execution_count": 149,
     "metadata": {},
     "output_type": "execute_result"
    }
   ],
   "source": [
    "H.alpha"
   ]
  },
  {
   "cell_type": "code",
   "execution_count": 112,
   "metadata": {
    "collapsed": false
   },
   "outputs": [],
   "source": []
  },
  {
   "cell_type": "code",
   "execution_count": 118,
   "metadata": {
    "collapsed": false
   },
   "outputs": [],
   "source": []
  },
  {
   "cell_type": "code",
   "execution_count": 99,
   "metadata": {
    "collapsed": false
   },
   "outputs": [
    {
     "name": "stdout",
     "output_type": "stream",
     "text": [
      "(51, 449)\n",
      "(449, 449)\n",
      "(449,)\n",
      "(449,)\n",
      "(449,)\n"
     ]
    }
   ],
   "source": [
    "print loss_lu.shape\n",
    "print loss_uu.shape\n",
    "print loss_obs_lu.shape\n",
    "print loss_obs_uu.shape\n",
    "print loss_obs.shape"
   ]
  },
  {
   "cell_type": "code",
   "execution_count": 109,
   "metadata": {
    "collapsed": false
   },
   "outputs": [
    {
     "data": {
      "text/plain": [
       "[<matplotlib.lines.Line2D at 0x7f229ffb6c50>]"
      ]
     },
     "execution_count": 109,
     "metadata": {},
     "output_type": "execute_result"
    },
    {
     "data": {
      "image/png": "[encoded data removed]",
      "text/plain": [
       "<matplotlib.figure.Figure at 0x7f22b0292d50>"
      ]
     },
     "metadata": {},
     "output_type": "display_data"
    }
   ],
   "source": [
    "plt.plot(loss_obs_normed)"
   ]
  },
  {
   "cell_type": "code",
   "execution_count": 143,
   "metadata": {
    "collapsed": false
   },
   "outputs": [
    {
     "data": {
      "text/plain": [
       "array([ 0.,  0.,  0.,  0.,  0.,  0.,  1.,  1.,  0.,  1.,  0.,  0.,  0.,\n",
       "        0.,  1.,  0.,  0.,  0.,  0.,  0.,  0.,  0.,  1.,  0.,  0.,  0.,\n",
       "        0.,  1.,  1.,  0.,  0.,  0.,  0.,  0.,  0.,  1.,  1.,  1.,  1.,\n",
       "        0.,  1.,  0.,  0.,  0.,  0.,  0.,  0.,  1.,  0.,  0.,  0.,  0.,\n",
       "        0.,  0.,  0.,  0.,  0.,  1.,  0.,  0.,  1.,  0.,  0.,  0.,  0.,\n",
       "        0.,  0.,  1.,  0.,  1.,  0.,  1.,  0.,  0.,  0.,  0.,  0.,  1.,\n",
       "        1.,  1.,  0.,  0.,  0.,  0.,  0.,  1.,  0.,  0.,  0.,  0.,  1.,\n",
       "        1.,  0.,  0.,  0.,  0.,  0.,  1.,  0.,  1.,  1.,  0.,  0.,  0.,\n",
       "        0.,  0.,  0.,  0.,  0.,  0.,  1.,  0.,  1.,  0.,  0.,  0.,  0.,\n",
       "        0.,  0.,  0.,  0.,  0.,  1.,  0.,  0.,  0.,  0.,  1.,  0.,  0.,\n",
       "        0.,  0.,  0.,  0.,  1.,  0.,  1.,  1.,  0.,  1.,  1.,  0.,  0.,\n",
       "        1.,  0.,  1.,  1.,  0.,  0.,  0.,  0.,  1.,  0.,  0.,  0.,  0.,\n",
       "        0.,  0.,  0.,  1.,  1.,  0.,  0.,  0.,  0.,  1.,  0.,  0.,  0.,\n",
       "        0.,  0.,  0.,  0.,  1.,  0.,  0.,  0.,  1.,  0.,  0.,  1.,  0.,\n",
       "        1.,  0.,  1.,  0.,  0.,  0.,  1.,  0.,  1.,  1.,  0.,  0.,  0.,\n",
       "        0.,  1.,  0.,  0.,  0.,  1.,  0.,  0.,  1.,  0.,  0.,  0.,  1.,\n",
       "        0.,  0.,  0.,  1.,  0.,  0.,  0.,  1.,  0.,  1.,  0.,  1.,  0.,\n",
       "        1.,  0.,  0.,  0.,  0.,  0.,  0.,  0.,  0.,  0.,  0.,  0.,  1.,\n",
       "        1.,  0.,  0.,  0.,  0.,  0.,  1.,  0.,  0.,  0.,  1.,  0.,  1.,\n",
       "        1.,  0.,  0.,  0.,  0.,  0.,  1.,  0.,  0.,  0.,  1.,  0.,  0.,\n",
       "        0.,  0.,  0.,  0.,  0.,  1.,  1.,  1.,  0.,  0.,  0.,  1.,  0.,\n",
       "        1.,  1.,  1.,  0.,  1.,  0.,  0.,  0.,  0.,  0.,  0.,  0.,  0.,\n",
       "        0.,  0.,  0.,  0.,  0.,  0.,  0.,  0.,  0.,  1.,  1.,  0.,  0.,\n",
       "        0.,  0.,  0.,  0.,  1.,  0.,  0.,  0.,  0.,  0.,  1.,  1.,  0.,\n",
       "        1.,  0.,  0.,  0.,  0.,  0.,  0.,  0.,  1.,  1.,  1.,  0.,  1.,\n",
       "        1.,  0.,  1.,  0.,  0.,  0.,  0.,  1.,  0.,  0.,  0.,  0.,  0.,\n",
       "        1.,  1.,  1.,  1.,  0.,  1.,  0.,  0.,  0.,  1.,  1.,  0.,  0.,\n",
       "        1.,  1.,  0.,  0.,  0.,  0.,  1.,  0.,  0.,  0.,  0.,  0.,  1.,\n",
       "        0.,  1.,  0.,  0.,  0.,  0.,  0.,  1.,  0.,  1.,  1.,  0.,  1.,\n",
       "        1.,  0.,  0.,  0.,  1.,  1.,  0.,  1.,  0.,  0.,  0.,  1.,  0.,\n",
       "        0.,  1.,  0.,  1.,  0.,  0.,  1.,  0.,  0.,  0.,  1.,  1.,  0.,\n",
       "        1.,  0.,  1.,  0.,  1.,  0.,  1.,  0.,  0.,  1.,  0.,  0.,  0.,\n",
       "        0.,  1.,  0.,  1.,  1.,  0.,  0.,  1.,  0.,  0.,  1.,  0.,  1.,\n",
       "        0.,  0.,  1.,  0.,  0.,  0.,  1.,  0.,  0.,  1.,  1.,  0.,  0.,\n",
       "        1.,  0.,  0.,  1.,  0.,  0.,  1.])"
      ]
     },
     "execution_count": 143,
     "metadata": {},
     "output_type": "execute_result"
    }
   ],
   "source": [
    "H_pred[:, y_train[i]]"
   ]
  }
 ],
 "metadata": {
  "kernelspec": {
   "display_name": "Python 2",
   "language": "python",
   "name": "python2"
  },
  "language_info": {
   "codemirror_mode": {
    "name": "ipython",
    "version": 2
   },
   "file_extension": ".py",
   "mimetype": "text/x-python",
   "name": "python",
   "nbconvert_exporter": "python",
   "pygments_lexer": "ipython2",
   "version": "2.7.10"
  }
 },
 "nbformat": 4,
 "nbformat_minor": 0
}
