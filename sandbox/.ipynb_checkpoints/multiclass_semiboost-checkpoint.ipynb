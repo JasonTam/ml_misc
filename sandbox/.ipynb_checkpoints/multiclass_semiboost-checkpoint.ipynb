{
 "cells": [
  {
   "cell_type": "markdown",
   "metadata": {},
   "source": [
    "Mallapragada, Pavan Kumar, et al. \"Semiboost: Boosting for semi-supervised learning.\" Pattern Analysis and Machine Intelligence, IEEE Transactions on 31.11 (2009): 2000-2014.\n",
    "\n",
    "http://www.cse.msu.edu/prip/ResearchProjects/cluster_research/papers/MSU-CSE-07-197.pdf\n",
    "\n",
    "http://citeseerx.ist.psu.edu/viewdoc/download?doi=10.1.1.380.9291&rep=rep1&type=pdf\n",
    "\n",
    "An AdaBoost Algorithm for Multiclass Semi-Supervised Learning\n",
    "Jafar Tanha, Maarten van Someren, Hamideh Afsarmanesh\n",
    "\n",
    "http://dare.uva.nl/document/2/118115\n",
    "\n",
    "\n",
    "\n",
    "Option to store Sim matrix - though this is huge in my case"
   ]
  },
  {
   "cell_type": "code",
   "execution_count": 349,
   "metadata": {
    "collapsed": true
   },
   "outputs": [],
   "source": [
    "import numpy as np\n",
    "\n",
    "from sklearn.metrics import pairwise_distances\n",
    "\n",
    "from sklearn.tree import DecisionTreeClassifier\n",
    "from sklearn.linear_model import LogisticRegression\n",
    "from sklearn.datasets import make_blobs, make_classification, make_gaussian_quantiles, make_circles\n",
    "from sklearn.preprocessing import label_binarize\n",
    "\n",
    "from sklearn.metrics import log_loss, accuracy_score\n",
    "from sklearn.cross_validation import StratifiedShuffleSplit\n",
    "from sklearn.base import BaseEstimator, ClassifierMixin, clone\n",
    "from sklearn.dummy import DummyClassifier\n",
    "\n",
    "from sklearn.utils.extmath import cartesian\n",
    "\n",
    "from scipy.stats import rv_discrete\n",
    "from numpy.core.umath_tests import inner1d    # We use this for row wise dot prod\n",
    "\n",
    "import matplotlib.pyplot as plt\n",
    "import seaborn as sns\n",
    "%matplotlib inline"
   ]
  },
  {
   "cell_type": "code",
   "execution_count": 60,
   "metadata": {
    "collapsed": false
   },
   "outputs": [],
   "source": [
    "class WeightedAvgClf(BaseEstimator, ClassifierMixin):\n",
    "    def __init__(self, ests=None, alpha=None):\n",
    "        if ests is None:\n",
    "            self.ests = []\n",
    "        else:\n",
    "            self.ests = ests\n",
    "        if alpha is None:\n",
    "            self.alpha = []\n",
    "        else:\n",
    "            self.alpha = alpha\n",
    "        \n",
    "    def add_est(self, est, alpha):\n",
    "        self.ests.append(est)\n",
    "        self.alpha.append(alpha)\n",
    "\n",
    "    def fit(self, X, y, **fit_params):\n",
    "        print 'The estimators should be pre-fit'\n",
    "        return self\n",
    "\n",
    "    def predict_proba(self, X, **pred_params):\n",
    "        preds = np.array([est.predict_proba(X) for est in self.ests])\n",
    "        preds_w = (np.array(self.alpha)[:, None, None] * preds).sum(axis=0)\n",
    "        return preds_w / preds_w.sum(axis=1)[:, None]\n",
    "        \n",
    "        \n"
   ]
  },
  {
   "cell_type": "code",
   "execution_count": 475,
   "metadata": {
    "collapsed": false
   },
   "outputs": [
    {
     "name": "stdout",
     "output_type": "stream",
     "text": [
      "K=3\n"
     ]
    },
    {
     "data": {
      "text/plain": [
       "<matplotlib.collections.PathCollection at 0x7f9c9af9db90>"
      ]
     },
     "execution_count": 475,
     "metadata": {},
     "output_type": "execute_result"
    },
    {
     "data": {
      "image/png": "[encoded data removed]",
      "text/plain": [
       "<matplotlib.figure.Figure at 0x7f9c982f9810>"
      ]
     },
     "metadata": {},
     "output_type": "display_data"
    }
   ],
   "source": [
    "# Prepping dataset\n",
    "# X, y = make_gaussian_quantiles(n_features=2, n_classes=3, cov=10,\n",
    "#                               n_samples=2000)\n",
    "X_c, y_c = make_circles(n_samples=500, factor=0.5, noise=0.2)\n",
    "X_b, y_b = make_blobs(n_samples=100, centers=1, cluster_std=0.2, center_box=(0,0))\n",
    "X = np.r_[X_c, X_b]\n",
    "y = np.r_[y_c, y_b+2]\n",
    "\n",
    "classes = np.unique(y)\n",
    "K = float(len(classes))\n",
    "\n",
    "train_split, val_split = iter(StratifiedShuffleSplit(\n",
    "    y, n_iter=1, test_size=0.90)).next()\n",
    "X_train, X_val = X[train_split], X[val_split]\n",
    "y_train, y_val = y[train_split], y[val_split]\n",
    "\n",
    "print 'K=%d' % K\n",
    "plt.scatter(X_val[:,0], X_val[:,1], c='gray', lw=0, alpha=0.5)\n",
    "plt.scatter(X_train[:,0], X_train[:,1], c=y_train, cmap='jet')"
   ]
  },
  {
   "cell_type": "code",
   "execution_count": 494,
   "metadata": {
    "collapsed": false
   },
   "outputs": [
    {
     "name": "stdout",
     "output_type": "stream",
     "text": [
      "LL: 10.4895543125\n",
      "Acc: 0.696296296296\n"
     ]
    }
   ],
   "source": [
    "# Baseline\n",
    "# clf = DecisionTreeClassifier()\n",
    "clf = DecisionTreeClassifier()\n",
    "clf.fit(X_train, y_train)\n",
    "print 'LL:', log_loss(y_val, clf.predict_proba(X_val))\n",
    "print 'Acc:', accuracy_score(y_val, clf.predict(X_val))"
   ]
  },
  {
   "cell_type": "code",
   "execution_count": 495,
   "metadata": {
    "collapsed": false
   },
   "outputs": [
    {
     "name": "stdout",
     "output_type": "stream",
     "text": [
      "(600, 2)\n",
      "(600, 600)\n"
     ]
    }
   ],
   "source": [
    "# Just playing with pairwise for similarity\n",
    "# S = pairwise_distances(X, metric='cosine', n_jobs=-1)\n",
    "S = pairwise_distances(X, metric='euclidean', n_jobs=-1)\n",
    "\n",
    "cart_lu = cartesian([train_split, val_split])\n",
    "cart_uu = cartesian([val_split, val_split])\n",
    "S_lu = S[cart_lu[:,0], cart_lu[:,1]].reshape([len(train_split), len(val_split)])\n",
    "S_uu = S[cart_uu[:,0], cart_uu[:,1]].reshape([len(val_split), len(val_split)])\n",
    "\n",
    "print X.shape\n",
    "print S.shape"
   ]
  },
  {
   "cell_type": "code",
   "execution_count": 496,
   "metadata": {
    "collapsed": false
   },
   "outputs": [],
   "source": [
    "# Y_coded\n",
    "Y = label_binarize(y_train, classes=classes, \n",
    "                   neg_label=-1, pos_label=K-1)/float(K-1)\n",
    "Y_d = label_binarize(y_train, classes=classes, \n",
    "                   neg_label=0, pos_label=1)"
   ]
  },
  {
   "cell_type": "code",
   "execution_count": 499,
   "metadata": {
    "collapsed": false
   },
   "outputs": [
    {
     "name": "stdout",
     "output_type": "stream",
     "text": [
      "Iter: 0 \t\tLL: (10.489554312528432,) \t\tAcc: 0.696296296296\n",
      "beta: 5.21401891837\n",
      "Iter: 1 \t\tLL: (8.8424308660724016,) \t\tAcc: 0.707407407407\n",
      "beta: 5.4239816161\n",
      "Iter: 2 \t\tLL: (8.2441336821392799,) \t\tAcc: 0.709259259259\n",
      "beta: 4.43111318392\n",
      "Iter: 3 \t\tLL: (7.5120561253976064,) \t\tAcc: 0.705555555556\n",
      "beta: 6.30781397691\n",
      "Iter: 4 \t\tLL: (7.3971442355885495,) \t\tAcc: 0.7\n",
      "beta: 4.86519621833\n",
      "Iter: 5 \t\tLL: (6.3056681946796056,) \t\tAcc: 0.703703703704\n",
      "beta: 5.53215175779\n",
      "Iter: 6 \t\tLL: (6.1286605712836995,) \t\tAcc: 0.711111111111\n",
      "beta: 4.89666773925\n",
      "Iter: 7 \t\tLL: (5.3437773852183863,) \t\tAcc: 0.711111111111\n",
      "beta: 5.39223603859\n",
      "Iter: 8 \t\tLL: (5.3590865849949303,) \t\tAcc: 0.703703703704\n",
      "beta: 4.91548366806\n",
      "Iter: 9 \t\tLL: (5.2400918433200063,) \t\tAcc: 0.711111111111\n",
      "beta: 4.97142771871\n",
      "Iter: 10 \t\tLL: (4.3317624877788576,) \t\tAcc: 0.709259259259\n",
      "beta: 5.53075887802\n",
      "Iter: 11 \t\tLL: (4.2719028825327703,) \t\tAcc: 0.711111111111\n",
      "beta: 5.39383831124\n",
      "Iter: 12 \t\tLL: (4.2135958698769098,) \t\tAcc: 0.711111111111\n",
      "beta: 4.62035970735\n",
      "Iter: 13 \t\tLL: (4.2209713912594502,) \t\tAcc: 0.707407407407\n",
      "beta: 5.11192165472\n",
      "Iter: 14 \t\tLL: (4.160663483292911,) \t\tAcc: 0.714814814815\n",
      "beta: 5.37787329553\n",
      "Iter: 15 \t\tLL: (4.0436678500812846,) \t\tAcc: 0.709259259259\n",
      "beta: 5.77975839218\n",
      "Iter: 16 \t\tLL: (4.0494360599853687,) \t\tAcc: 0.711111111111\n",
      "beta: 6.34272537286\n",
      "Iter: 17 \t\tLL: (4.0579162630402772,) \t\tAcc: 0.707407407407\n",
      "beta: 6.1032177319\n",
      "Iter: 18 \t\tLL: (4.0629321658214375,) \t\tAcc: 0.712962962963\n",
      "beta: 6.24549647384\n",
      "Iter: 19 \t\tLL: (4.0677898781058044,) \t\tAcc: 0.714814814815\n",
      "beta: 4.93716486828\n",
      "Iter: 20 \t\tLL: (3.9979199173969695,) \t\tAcc: 0.716666666667\n",
      "beta: 5.25653722553\n",
      "Iter: 21 \t\tLL: (4.0006985707826503,) \t\tAcc: 0.714814814815\n",
      "beta: 6.3378901933\n",
      "Iter: 22 \t\tLL: (4.0043719250026157,) \t\tAcc: 0.716666666667\n",
      "beta: 5.88941787099\n",
      "Iter: 23 \t\tLL: (4.0087717067575541,) \t\tAcc: 0.714814814815\n",
      "beta: 5.40075248627\n",
      "Iter: 24 \t\tLL: (4.015117261679352,) \t\tAcc: 0.707407407407\n",
      "beta: 4.51231911192\n",
      "Iter: 25 \t\tLL: (2.8548022220610663,) \t\tAcc: 0.709259259259\n",
      "beta: 5.01942274775\n",
      "Iter: 26 \t\tLL: (2.8553541747922542,) \t\tAcc: 0.705555555556\n",
      "beta: 5.48808708556\n",
      "Iter: 27 \t\tLL: (2.7967616374604147,) \t\tAcc: 0.705555555556\n",
      "beta: 5.04285640858\n",
      "Iter: 28 \t\tLL: (2.7988008232887287,) \t\tAcc: 0.705555555556\n",
      "beta: 6.27220908369\n",
      "Iter: 29 \t\tLL: (2.8022563689185023,) \t\tAcc: 0.707407407407\n",
      "beta: 5.80974845009\n",
      "Iter: 30 \t\tLL: (2.7967352414256239,) \t\tAcc: 0.709259259259\n",
      "beta: 5.55395922168\n",
      "Iter: 31 \t\tLL: (2.7999882170316046,) \t\tAcc: 0.709259259259\n",
      "beta: 4.98659771322\n",
      "Iter: 32 \t\tLL: (2.8000089914234128,) \t\tAcc: 0.709259259259\n",
      "beta: 3.808393606\n",
      "Iter: 33 \t\tLL: (2.5963531310503436,) \t\tAcc: 0.709259259259\n",
      "beta: 6.25088683266\n",
      "Iter: 34 \t\tLL: (2.5984937974500286,) \t\tAcc: 0.712962962963\n",
      "beta: 4.75280322284\n",
      "Iter: 35 \t\tLL: (2.483314065946169,) \t\tAcc: 0.714814814815\n",
      "beta: 6.10906195716\n",
      "Iter: 36 \t\tLL: (2.4868000117273552,) \t\tAcc: 0.714814814815\n",
      "beta: 5.08097778362\n",
      "Iter: 37 \t\tLL: (2.4217270021862971,) \t\tAcc: 0.716666666667\n",
      "beta: 5.76151680767\n",
      "Iter: 38 \t\tLL: (2.424065655452381,) \t\tAcc: 0.714814814815\n",
      "beta: 5.67493055381\n",
      "Iter: 39 \t\tLL: (2.4262292404592793,) \t\tAcc: 0.714814814815\n",
      "beta: 5.89083783126\n",
      "Iter: 40 \t\tLL: (2.4294114102540543,) \t\tAcc: 0.711111111111\n",
      "beta: 4.61309192451\n",
      "Iter: 41 \t\tLL: (2.2564655518267278,) \t\tAcc: 0.714814814815\n",
      "beta: 5.09607447802\n",
      "Iter: 42 \t\tLL: (2.2476385236438206,) \t\tAcc: 0.709259259259\n",
      "beta: 5.88030859562\n",
      "Iter: 43 \t\tLL: (2.2524212366200849,) \t\tAcc: 0.714814814815\n",
      "beta: 6.85189869202\n",
      "Iter: 44 \t\tLL: (2.2571997063857832,) \t\tAcc: 0.712962962963\n",
      "beta: 6.18293736183\n",
      "Iter: 45 \t\tLL: (2.2611850489284833,) \t\tAcc: 0.712962962963\n",
      "beta: 5.38316134034\n",
      "Iter: 46 \t\tLL: (2.2642723866301506,) \t\tAcc: 0.712962962963\n",
      "beta: 5.4725854219\n",
      "Iter: 47 \t\tLL: (2.2643987229023379,) \t\tAcc: 0.712962962963\n",
      "beta: 4.97115636729\n",
      "Iter: 48 \t\tLL: (2.2590658733928617,) \t\tAcc: 0.712962962963\n",
      "beta: 5.26925782176\n",
      "Iter: 49 \t\tLL: (2.2608662442998382,) \t\tAcc: 0.712962962963\n",
      "beta: 6.07080958423\n",
      "Iter: 50 \t\tLL: (2.2598861634555991,) \t\tAcc: 0.711111111111\n",
      "beta: 5.43730811278\n",
      "Iter: 51 \t\tLL: (2.2630916058197146,) \t\tAcc: 0.709259259259\n",
      "beta: 6.00536314064\n",
      "Iter: 52 \t\tLL: (2.2652343027516588,) \t\tAcc: 0.711111111111\n",
      "beta: 4.4445927439\n",
      "Iter: 53 \t\tLL: (2.1874107905932183,) \t\tAcc: 0.711111111111\n",
      "beta: 5.82662575858\n",
      "Iter: 54 \t\tLL: (2.1908608257863587,) \t\tAcc: 0.711111111111\n",
      "beta: 6.24809373931\n",
      "Iter: 55 \t\tLL: (2.1925278896670979,) \t\tAcc: 0.711111111111\n",
      "beta: 5.34068911509\n",
      "Iter: 56 \t\tLL: (2.1939849140025611,) \t\tAcc: 0.711111111111\n",
      "beta: 6.03448352753\n",
      "Iter: 57 \t\tLL: (2.1970880232857155,) \t\tAcc: 0.709259259259\n",
      "beta: 4.80086993349\n",
      "Iter: 58 \t\tLL: (2.1965744396287263,) \t\tAcc: 0.711111111111\n",
      "beta: 4.78833697038\n",
      "Iter: 59 \t\tLL: (2.1911609305371798,) \t\tAcc: 0.709259259259\n",
      "beta: 5.94622115061\n",
      "Iter: 60 \t\tLL: (2.1916944886701701,) \t\tAcc: 0.711111111111\n",
      "beta: 4.98085923737\n",
      "Iter: 61 \t\tLL: (2.1927681624531852,) \t\tAcc: 0.711111111111\n",
      "beta: 4.60942903645\n",
      "Iter: 62 \t\tLL: (2.1797287777465,) \t\tAcc: 0.712962962963\n",
      "beta: 5.31415080394\n",
      "Iter: 63 \t\tLL: (2.1803177434612362,) \t\tAcc: 0.712962962963\n",
      "beta: 5.38355269801\n",
      "Iter: 64 \t\tLL: (2.182878916455544,) \t\tAcc: 0.714814814815\n",
      "beta: 5.85758617189\n",
      "Iter: 65 \t\tLL: (2.1843487751832624,) \t\tAcc: 0.714814814815\n",
      "beta: 5.18130040468\n",
      "Iter: 66 \t\tLL: (2.1846886345528276,) \t\tAcc: 0.714814814815\n",
      "beta: 5.69293179725\n",
      "Iter: 67 \t\tLL: (2.1865949069065391,) \t\tAcc: 0.714814814815\n",
      "beta: 4.67891709745\n",
      "Iter: 68 \t\tLL: (2.1337101373698499,) \t\tAcc: 0.714814814815\n",
      "beta: 5.02607462418\n",
      "Iter: 69 \t\tLL: (2.1328730047762989,) \t\tAcc: 0.714814814815\n",
      "beta: 5.46515495423\n",
      "Iter: 70 \t\tLL: (2.1293233062117602,) \t\tAcc: 0.714814814815\n",
      "beta: 6.19128199136\n",
      "Iter: 71 \t\tLL: (2.1326520675852354,) \t\tAcc: 0.712962962963\n",
      "beta: 5.83948357944\n",
      "Iter: 72 \t\tLL: (2.1314602296747904,) \t\tAcc: 0.712962962963\n",
      "beta: 6.45716961009\n",
      "Iter: 73 \t\tLL: (2.1341298018948778,) \t\tAcc: 0.712962962963\n",
      "beta: 5.56494106183\n",
      "Iter: 74 \t\tLL: (2.1351317726771986,) \t\tAcc: 0.712962962963\n",
      "beta: 4.84653269331\n",
      "Iter: 75 \t\tLL: (2.0771368999667756,) \t\tAcc: 0.712962962963\n",
      "beta: 5.16309950509\n",
      "Iter: 76 \t\tLL: (2.0773383044115872,) \t\tAcc: 0.712962962963\n",
      "beta: 5.66010189769\n",
      "Iter: 77 \t\tLL: (2.0795099139586659,) \t\tAcc: 0.712962962963\n",
      "beta: 4.93162124735\n",
      "Iter: 78 \t\tLL: (2.0813012091643746,) \t\tAcc: 0.712962962963\n",
      "beta: 5.15044962806\n",
      "Iter: 79 \t\tLL: (2.0815056483417553,) \t\tAcc: 0.714814814815\n",
      "beta: 5.40698784192\n",
      "Iter: 80 \t\tLL: (2.082330505354177,) \t\tAcc: 0.714814814815\n",
      "beta: 5.91208082176\n",
      "Iter: 81 \t\tLL: (2.0834184105023437,) \t\tAcc: 0.714814814815\n",
      "beta: 5.23057731366\n",
      "Iter: 82 \t\tLL: (2.0228405357750869,) \t\tAcc: 0.714814814815\n",
      "beta: 5.73782472616\n",
      "Iter: 83 \t\tLL: (2.0240323387159034,) \t\tAcc: 0.714814814815\n",
      "beta: 4.87231483899\n",
      "Iter: 84 \t\tLL: (2.0218751579033438,) \t\tAcc: 0.712962962963\n",
      "beta: 4.71239960701\n",
      "Iter: 85 \t\tLL: (2.0117428964092556,) \t\tAcc: 0.714814814815\n",
      "beta: 5.93192204914\n",
      "Iter: 86 \t\tLL: (2.0130227982208839,) \t\tAcc: 0.714814814815\n",
      "beta: 5.53989662922\n",
      "Iter: 87 \t\tLL: (2.0130680570428763,) \t\tAcc: 0.714814814815\n",
      "beta: 5.52859211499\n",
      "Iter: 88 \t\tLL: (2.0134432527667925,) \t\tAcc: 0.712962962963\n",
      "beta: 5.13854498798\n",
      "Iter: 89 \t\tLL: (2.0150336092771153,) \t\tAcc: 0.714814814815\n",
      "beta: 4.98835665143\n",
      "Iter: 90 \t\tLL: (2.0159077798967635,) \t\tAcc: 0.714814814815\n",
      "beta: 5.12460415029\n",
      "Iter: 91 \t\tLL: (2.0165532942832449,) \t\tAcc: 0.714814814815\n",
      "beta: 4.6885726142\n",
      "Iter: 92 \t\tLL: (2.016360101529139,) \t\tAcc: 0.714814814815\n",
      "beta: 5.25689293853\n",
      "Iter: 93 \t\tLL: (2.0174120943839102,) \t\tAcc: 0.714814814815\n",
      "beta: 5.17474654619\n",
      "Iter: 94 \t\tLL: (2.0188533631985677,) \t\tAcc: 0.714814814815\n",
      "beta: 5.4379337396\n",
      "Iter: 95 \t\tLL: (2.0198618673307904,) \t\tAcc: 0.714814814815\n",
      "beta: 5.20625954745\n",
      "Iter: 96 \t\tLL: (2.0215455122845922,) \t\tAcc: 0.714814814815\n",
      "beta: 4.33088321512\n",
      "Iter: 97 \t\tLL: (2.017474025133231,) \t\tAcc: 0.714814814815\n",
      "beta: 5.17176459739\n",
      "Iter: 98 \t\tLL: (2.0183239394476646,) \t\tAcc: 0.712962962963\n",
      "beta: 5.66426246963\n",
      "Iter: 99 \t\tLL: (2.0197352097286636,) \t\tAcc: 0.714814814815\n",
      "beta: 5.65527937243\n"
     ]
    }
   ],
   "source": [
    "accs = []\n",
    "lls = []\n",
    "\n",
    "# clf = DecisionTreeClassifier()\n",
    "clf = LogisticRegression()\n",
    "# Fit the initial classifier and add to ensemble\n",
    "H = WeightedAvgClf(\n",
    "    ests=[clone(clf).fit(X_train, y_train)],\n",
    "    alpha=[1.],\n",
    ")\n",
    "\n",
    "# H = WeightedAvgClf(\n",
    "#     ests=[DummyClassifier(strategy='uniform').fit(X_train, y_train)],\n",
    "#     alpha=[1e-10],\n",
    "# )\n",
    "\n",
    "T = 100\n",
    "for t in range(T):\n",
    "    print 'Iter:', t,\n",
    "    H_pred_u = H.predict_proba(X_val)\n",
    "    H_pred_l = H.predict_proba(X_train)\n",
    "    \n",
    "    try:\n",
    "        ll = log_loss(y_val, H_pred_u),\n",
    "    except ValueError:\n",
    "        ll = np.nan,\n",
    "    acc = accuracy_score(y_val, np.argmax(H_pred_u, axis=1))\n",
    "    print '\\t\\tLL:', ll,\n",
    "    print '\\t\\tAcc:', acc\n",
    "    accs.append(acc)\n",
    "    lls.append(ll)\n",
    "    \n",
    "#     --------------------------------------------------------------\n",
    "# Trying stuff from Tanha et al\n",
    "    # W over labeled obs\n",
    "    W = np.exp((-1./K) * inner1d(Y, H_pred_l))\n",
    "    \n",
    "#     S_lu = np.ones((len(X_train), len(X_val)))\n",
    "#     S_uu = np.ones((len(X_val), len(X_val)))\n",
    "    # P over pairs of labeled and unlabeled obs\n",
    "    P_ul = (S_lu.T[:, :, None] * \n",
    "            np.exp(\n",
    "            (-1./(K-1)) * np.tile(H_pred_u[:, None, :], (1, len(Y), 1))) * Y_d\n",
    "           ).sum(axis=1)\n",
    "    P_uu = (S_uu[:, :, None] * np.exp(\n",
    "            (+1./(K-1)) * \n",
    "            (np.tile(H_pred_u[:, None, :], (1, len(X_val), 1)) -\n",
    "             np.tile(H_pred_u[None, :, :], (len(X_val), 1, 1))) + \n",
    "            (1./(K-1)))).sum(axis=1)\n",
    "    P = P_ul + P_uu\n",
    "   \n",
    "#     --------------------------------------------------------------\n",
    "    # Create sampling prob distribution from loss_obs (our confidence)\n",
    "    P_max = P.max(axis=1)\n",
    "    P_sorted = np.sort(P, axis=1)\n",
    "    P_diff = P_sorted[:, -1] - P_sorted[:, -2] + 1e-30   # difference between max and 2nd to max\n",
    "\n",
    "#     u_sampling_pmf = rv_discrete(values=(range(len(P)), P_diff / P_diff.sum()))\n",
    "    u_sampling_pmf = rv_discrete(values=(range(len(P)), P_max / P_max.sum()))\n",
    "#     u_sampling_pmf = rv_discrete(values=(range(len(P)), H_pred_u.max(axis=1) / H_pred_u.max(axis=1).sum()))\n",
    "\n",
    "    l_sampling_pmf = rv_discrete(values=(range(len(W)), W / W.sum()))\n",
    "#     --------------------------------------------------------------    \n",
    "    # Sample the pseudo-labels based on confidence\n",
    "    # Mallapragada uses 10% | Tanha uses 15%\n",
    "    p_xfer = 0.1\n",
    "    n_xfer = int(len(loss_obs_normed) * p_xfer)\n",
    "    xfer_inds = u_sampling_pmf.rvs(size=n_xfer)\n",
    "    y_xfer_all = np.argmax(P, axis=1)    # Pseudo labels all\n",
    "    y_xfer = y_xfer_all[xfer_inds]   # Pseudo labels for xfers\n",
    "    X_xfer = X_val[xfer_inds, :]\n",
    "\n",
    "    # Fit the component classifier\n",
    "    h = clone(clf).fit(\n",
    "        X=np.r_[X_train, X_xfer],\n",
    "        y=np.r_[y_train, y_xfer],\n",
    "    )\n",
    "    \n",
    "    # Predict again using just component classifier\n",
    "    h_pred_u = h.predict_proba(X_val)\n",
    "    h_pred_l = h.predict_proba(X_train)\n",
    "    \n",
    "#     --------------------------------------------------------------\n",
    "    # Weighted error term for new component classifier h\n",
    "    misclass_h_l = np.argmax(h_pred_l, axis=1) != y_train\n",
    "    misclass_h_u = np.argmax(h_pred_u, axis=1) != y_xfer_all\n",
    "    eps_t_num = P[misclass_h_u, y_xfer_all[misclass_h_u]].sum() + W[misclass_h_l].sum()   # idk about the y_xfer index\n",
    "    eps_t_den = P.sum() + W.sum()\n",
    "    eps_t = eps_t_num / eps_t_den\n",
    "    beta_t = ((K-1.)**2/K) * (np.log(K-1.) + np.log((1.-eps_t)/eps_t))\n",
    "\n",
    "    print 'beta:', beta_t\n",
    "    if beta_t < 0:\n",
    "        print 'beta_t < 0 : ending'\n",
    "        break\n",
    "#     --------------------------------------------------------------\n",
    "    \n",
    "    H.add_est(h, beta_t)"
   ]
  },
  {
   "cell_type": "code",
   "execution_count": 507,
   "metadata": {
    "collapsed": false
   },
   "outputs": [
    {
     "data": {
      "text/plain": [
       "[<matplotlib.lines.Line2D at 0x7f9c9aa6f090>]"
      ]
     },
     "execution_count": 507,
     "metadata": {},
     "output_type": "execute_result"
    },
    {
     "data": {
      "image/png": "[encoded data removed]",
      "text/plain": [
       "<matplotlib.figure.Figure at 0x7f9c9aa48dd0>"
      ]
     },
     "metadata": {},
     "output_type": "display_data"
    }
   ],
   "source": [
    "plt.figure(figsize=(16, 8))\n",
    "plt.plot(np.array(accs)*100)\n",
    "plt.plot(np.array(lls)*5)"
   ]
  },
  {
   "cell_type": "code",
   "execution_count": 289,
   "metadata": {
    "collapsed": false
   },
   "outputs": [
    {
     "name": "stdout",
     "output_type": "stream",
     "text": [
      "0.826280623608\n",
      "6.00005469667\n"
     ]
    }
   ],
   "source": [
    "c = DecisionTreeClassifier().fit(X_train, y_train)\n",
    "print accuracy_score(y_val, c.predict(X_val))\n",
    "print log_loss(y_val, c.predict_proba(X_val))"
   ]
  },
  {
   "cell_type": "code",
   "execution_count": 509,
   "metadata": {
    "collapsed": false
   },
   "outputs": [
    {
     "data": {
      "text/plain": [
       "array([[ 0.,  1.,  0.],\n",
       "       [ 0.,  1.,  0.],\n",
       "       [ 0.,  1.,  0.],\n",
       "       [ 1.,  0.,  0.],\n",
       "       [ 0.,  1.,  0.],\n",
       "       [ 0.,  1.,  0.],\n",
       "       [ 0.,  1.,  0.],\n",
       "       [ 1.,  0.,  0.],\n",
       "       [ 0.,  1.,  0.],\n",
       "       [ 0.,  1.,  0.],\n",
       "       [ 1.,  0.,  0.],\n",
       "       [ 0.,  1.,  0.],\n",
       "       [ 1.,  0.,  0.],\n",
       "       [ 0.,  1.,  0.],\n",
       "       [ 1.,  0.,  0.],\n",
       "       [ 1.,  0.,  0.],\n",
       "       [ 0.,  1.,  0.],\n",
       "       [ 1.,  0.,  0.],\n",
       "       [ 1.,  0.,  0.],\n",
       "       [ 0.,  0.,  1.],\n",
       "       [ 1.,  0.,  0.],\n",
       "       [ 1.,  0.,  0.],\n",
       "       [ 1.,  0.,  0.],\n",
       "       [ 0.,  1.,  0.],\n",
       "       [ 1.,  0.,  0.],\n",
       "       [ 0.,  0.,  1.],\n",
       "       [ 0.,  0.,  1.],\n",
       "       [ 0.,  1.,  0.],\n",
       "       [ 1.,  0.,  0.],\n",
       "       [ 0.,  1.,  0.],\n",
       "       [ 1.,  0.,  0.],\n",
       "       [ 0.,  0.,  1.],\n",
       "       [ 0.,  1.,  0.],\n",
       "       [ 1.,  0.,  0.],\n",
       "       [ 1.,  0.,  0.],\n",
       "       [ 0.,  1.,  0.],\n",
       "       [ 1.,  0.,  0.],\n",
       "       [ 0.,  1.,  0.],\n",
       "       [ 0.,  1.,  0.],\n",
       "       [ 0.,  1.,  0.],\n",
       "       [ 0.,  0.,  1.],\n",
       "       [ 0.,  1.,  0.],\n",
       "       [ 0.,  0.,  1.],\n",
       "       [ 0.,  1.,  0.],\n",
       "       [ 0.,  1.,  0.],\n",
       "       [ 1.,  0.,  0.],\n",
       "       [ 0.,  0.,  1.],\n",
       "       [ 1.,  0.,  0.],\n",
       "       [ 0.,  0.,  1.],\n",
       "       [ 1.,  0.,  0.],\n",
       "       [ 0.,  0.,  1.],\n",
       "       [ 0.,  1.,  0.],\n",
       "       [ 1.,  0.,  0.],\n",
       "       [ 1.,  0.,  0.],\n",
       "       [ 1.,  0.,  0.],\n",
       "       [ 0.,  1.,  0.],\n",
       "       [ 0.,  0.,  1.],\n",
       "       [ 1.,  0.,  0.],\n",
       "       [ 1.,  0.,  0.],\n",
       "       [ 0.,  1.,  0.]])"
      ]
     },
     "execution_count": 509,
     "metadata": {},
     "output_type": "execute_result"
    }
   ],
   "source": [
    "H_pred_l"
   ]
  },
  {
   "cell_type": "code",
   "execution_count": 99,
   "metadata": {
    "collapsed": false
   },
   "outputs": [
    {
     "name": "stdout",
     "output_type": "stream",
     "text": [
      "(51, 449)\n",
      "(449, 449)\n",
      "(449,)\n",
      "(449,)\n",
      "(449,)\n"
     ]
    }
   ],
   "source": [
    "print loss_lu.shape\n",
    "print loss_uu.shape\n",
    "print loss_obs_lu.shape\n",
    "print loss_obs_uu.shape\n",
    "print loss_obs.shape"
   ]
  },
  {
   "cell_type": "code",
   "execution_count": 109,
   "metadata": {
    "collapsed": false
   },
   "outputs": [
    {
     "data": {
      "text/plain": [
       "[<matplotlib.lines.Line2D at 0x7f229ffb6c50>]"
      ]
     },
     "execution_count": 109,
     "metadata": {},
     "output_type": "execute_result"
    },
    {
     "data": {
      "image/png": "[encoded data removed]",
      "text/plain": [
       "<matplotlib.figure.Figure at 0x7f22b0292d50>"
      ]
     },
     "metadata": {},
     "output_type": "display_data"
    }
   ],
   "source": [
    "plt.plot(loss_obs_normed)"
   ]
  },
  {
   "cell_type": "code",
   "execution_count": 143,
   "metadata": {
    "collapsed": false
   },
   "outputs": [
    {
     "data": {
      "text/plain": [
       "array([ 0.,  0.,  0.,  0.,  0.,  0.,  1.,  1.,  0.,  1.,  0.,  0.,  0.,\n",
       "        0.,  1.,  0.,  0.,  0.,  0.,  0.,  0.,  0.,  1.,  0.,  0.,  0.,\n",
       "        0.,  1.,  1.,  0.,  0.,  0.,  0.,  0.,  0.,  1.,  1.,  1.,  1.,\n",
       "        0.,  1.,  0.,  0.,  0.,  0.,  0.,  0.,  1.,  0.,  0.,  0.,  0.,\n",
       "        0.,  0.,  0.,  0.,  0.,  1.,  0.,  0.,  1.,  0.,  0.,  0.,  0.,\n",
       "        0.,  0.,  1.,  0.,  1.,  0.,  1.,  0.,  0.,  0.,  0.,  0.,  1.,\n",
       "        1.,  1.,  0.,  0.,  0.,  0.,  0.,  1.,  0.,  0.,  0.,  0.,  1.,\n",
       "        1.,  0.,  0.,  0.,  0.,  0.,  1.,  0.,  1.,  1.,  0.,  0.,  0.,\n",
       "        0.,  0.,  0.,  0.,  0.,  0.,  1.,  0.,  1.,  0.,  0.,  0.,  0.,\n",
       "        0.,  0.,  0.,  0.,  0.,  1.,  0.,  0.,  0.,  0.,  1.,  0.,  0.,\n",
       "        0.,  0.,  0.,  0.,  1.,  0.,  1.,  1.,  0.,  1.,  1.,  0.,  0.,\n",
       "        1.,  0.,  1.,  1.,  0.,  0.,  0.,  0.,  1.,  0.,  0.,  0.,  0.,\n",
       "        0.,  0.,  0.,  1.,  1.,  0.,  0.,  0.,  0.,  1.,  0.,  0.,  0.,\n",
       "        0.,  0.,  0.,  0.,  1.,  0.,  0.,  0.,  1.,  0.,  0.,  1.,  0.,\n",
       "        1.,  0.,  1.,  0.,  0.,  0.,  1.,  0.,  1.,  1.,  0.,  0.,  0.,\n",
       "        0.,  1.,  0.,  0.,  0.,  1.,  0.,  0.,  1.,  0.,  0.,  0.,  1.,\n",
       "        0.,  0.,  0.,  1.,  0.,  0.,  0.,  1.,  0.,  1.,  0.,  1.,  0.,\n",
       "        1.,  0.,  0.,  0.,  0.,  0.,  0.,  0.,  0.,  0.,  0.,  0.,  1.,\n",
       "        1.,  0.,  0.,  0.,  0.,  0.,  1.,  0.,  0.,  0.,  1.,  0.,  1.,\n",
       "        1.,  0.,  0.,  0.,  0.,  0.,  1.,  0.,  0.,  0.,  1.,  0.,  0.,\n",
       "        0.,  0.,  0.,  0.,  0.,  1.,  1.,  1.,  0.,  0.,  0.,  1.,  0.,\n",
       "        1.,  1.,  1.,  0.,  1.,  0.,  0.,  0.,  0.,  0.,  0.,  0.,  0.,\n",
       "        0.,  0.,  0.,  0.,  0.,  0.,  0.,  0.,  0.,  1.,  1.,  0.,  0.,\n",
       "        0.,  0.,  0.,  0.,  1.,  0.,  0.,  0.,  0.,  0.,  1.,  1.,  0.,\n",
       "        1.,  0.,  0.,  0.,  0.,  0.,  0.,  0.,  1.,  1.,  1.,  0.,  1.,\n",
       "        1.,  0.,  1.,  0.,  0.,  0.,  0.,  1.,  0.,  0.,  0.,  0.,  0.,\n",
       "        1.,  1.,  1.,  1.,  0.,  1.,  0.,  0.,  0.,  1.,  1.,  0.,  0.,\n",
       "        1.,  1.,  0.,  0.,  0.,  0.,  1.,  0.,  0.,  0.,  0.,  0.,  1.,\n",
       "        0.,  1.,  0.,  0.,  0.,  0.,  0.,  1.,  0.,  1.,  1.,  0.,  1.,\n",
       "        1.,  0.,  0.,  0.,  1.,  1.,  0.,  1.,  0.,  0.,  0.,  1.,  0.,\n",
       "        0.,  1.,  0.,  1.,  0.,  0.,  1.,  0.,  0.,  0.,  1.,  1.,  0.,\n",
       "        1.,  0.,  1.,  0.,  1.,  0.,  1.,  0.,  0.,  1.,  0.,  0.,  0.,\n",
       "        0.,  1.,  0.,  1.,  1.,  0.,  0.,  1.,  0.,  0.,  1.,  0.,  1.,\n",
       "        0.,  0.,  1.,  0.,  0.,  0.,  1.,  0.,  0.,  1.,  1.,  0.,  0.,\n",
       "        1.,  0.,  0.,  1.,  0.,  0.,  1.])"
      ]
     },
     "execution_count": 143,
     "metadata": {},
     "output_type": "execute_result"
    }
   ],
   "source": [
    "H_pred[:, y_train[i]]"
   ]
  }
 ],
 "metadata": {
  "kernelspec": {
   "display_name": "Python 2",
   "language": "python",
   "name": "python2"
  },
  "language_info": {
   "codemirror_mode": {
    "name": "ipython",
    "version": 2
   },
   "file_extension": ".py",
   "mimetype": "text/x-python",
   "name": "python",
   "nbconvert_exporter": "python",
   "pygments_lexer": "ipython2",
   "version": "2.7.10"
  }
 },
 "nbformat": 4,
 "nbformat_minor": 0
}
